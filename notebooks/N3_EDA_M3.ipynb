{
 "cells": [
  {
   "cell_type": "code",
   "execution_count": 1,
   "metadata": {},
   "outputs": [
    {
     "name": "stderr",
     "output_type": "stream",
     "text": [
      "[nltk_data] Downloading package punkt to\n",
      "[nltk_data]     /Users/jorge.mayorga/nltk_data...\n",
      "[nltk_data]   Package punkt is already up-to-date!\n",
      "[nltk_data] Downloading package punkt_tab to\n",
      "[nltk_data]     /Users/jorge.mayorga/nltk_data...\n",
      "[nltk_data]   Package punkt_tab is already up-to-date!\n",
      "[nltk_data] Downloading package stopwords to\n",
      "[nltk_data]     /Users/jorge.mayorga/nltk_data...\n",
      "[nltk_data]   Package stopwords is already up-to-date!\n"
     ]
    },
    {
     "data": {
      "text/plain": [
       "True"
      ]
     },
     "execution_count": 1,
     "metadata": {},
     "output_type": "execute_result"
    }
   ],
   "source": [
    "### import importlib\n",
    "import sys\n",
    "import os\n",
    "import nltk\n",
    "import pandas as pd\n",
    "import networkx as nx\n",
    "\n",
    "# Add the 'src' directory to the system path\n",
    "sys.path.append(os.path.abspath('../src'))\n",
    "src_path = os.path.abspath('../src')\n",
    "\n",
    "nltk.download('punkt')\n",
    "nltk.download('punkt_tab')\n",
    "nltk.download('stopwords')"
   ]
  },
  {
   "cell_type": "code",
   "execution_count": 2,
   "metadata": {},
   "outputs": [],
   "source": [
    "# Import classes from the modules using their correct filenames\n",
    "from DataLoaderClass import DataLoader"
   ]
  },
  {
   "cell_type": "code",
   "execution_count": 3,
   "metadata": {},
   "outputs": [],
   "source": [
    "# Initialize paths\n",
    "BIB_FILE_PATH = '../examples/EX2_POWER_SYSTEM_FPGA_FREQUENCY_ESTIMATORS/index.bib'\n",
    "PDF_FOLDER_PATH = '../examples/EX2_POWER_SYSTEM_FPGA_FREQUENCY_ESTIMATORS/files'"
   ]
  },
  {
   "cell_type": "code",
   "execution_count": 4,
   "metadata": {},
   "outputs": [
    {
     "name": "stdout",
     "output_type": "stream",
     "text": [
      "\n",
      "Matching process completed.\n",
      "Total references matched: 53 out of 53\n",
      "Unmatched References: 0\n",
      "\n",
      "Unmatched PDF Folders: 0\n"
     ]
    }
   ],
   "source": [
    "# Step 1: Data Loading and Processing\n",
    "loader = DataLoader(BIB_FILE_PATH, PDF_FOLDER_PATH)\n",
    "processed_data = loader.load_and_process()"
   ]
  },
  {
   "cell_type": "code",
   "execution_count": 5,
   "metadata": {},
   "outputs": [],
   "source": [
    "# -------------------------------------------------------------- #\n",
    "# -- EDA M3 :: Sources ----------------------------------------- #\n",
    "# -------------------------------------------------------------- #\n",
    "from eda.m3_sources_analysis import Processor\n",
    "from eda.m3_sources_analysis import Visualizer\n",
    "from eda.m3_sources_analysis import Reporter\n",
    "# -------------------------------------------------------------- #\n",
    "\n",
    "# Data\n",
    "data = processed_data\n",
    "\n",
    "# Process data\n",
    "processor = Processor(data)\n",
    "visualizer = Visualizer()\n",
    "reporter = Reporter()"
   ]
  },
  {
   "cell_type": "code",
   "execution_count": 6,
   "metadata": {},
   "outputs": [],
   "source": [
    "#################################################################################\n",
    "### Function 1 => Top Sources and Publishers (Barplot & Table)\n",
    "#################################################################################"
   ]
  },
  {
   "cell_type": "markdown",
   "metadata": {},
   "source": [
    "### **Indicator: Top Sources and Publishers**\n",
    "\n",
    "This indicator identifies the journals or publishers that contribute the most documents to the dataset. By ranking sources by their document count, this analysis highlights the key venues in the discipline.\n",
    "\n",
    "#### **How to Interpret**\n",
    "- **Bar Chart**: Displays the top journals or publishers contributing to the topic.\n",
    "- **Insights**: Journals or publishers with a higher document count likely have a greater focus or impact on the topic.\n"
   ]
  },
  {
   "cell_type": "code",
   "execution_count": 7,
   "metadata": {},
   "outputs": [
    {
     "data": {
      "image/png": "[encoded data removed]",
      "text/plain": [
       "<Figure size 1000x600 with 1 Axes>"
      ]
     },
     "metadata": {},
     "output_type": "display_data"
    },
    {
     "name": "stdout",
     "output_type": "stream",
     "text": [
      "Saved to ../output/m2_authors/top_sources.csv\n"
     ]
    },
    {
     "data": {
      "text/html": [
       "<div>\n",
       "<style scoped>\n",
       "    .dataframe tbody tr th:only-of-type {\n",
       "        vertical-align: middle;\n",
       "    }\n",
       "\n",
       "    .dataframe tbody tr th {\n",
       "        vertical-align: top;\n",
       "    }\n",
       "\n",
       "    .dataframe thead th {\n",
       "        text-align: right;\n",
       "    }\n",
       "</style>\n",
       "<table border=\"1\" class=\"dataframe\">\n",
       "  <thead>\n",
       "    <tr style=\"text-align: right;\">\n",
       "      <th></th>\n",
       "      <th>Source</th>\n",
       "      <th>Document Count</th>\n",
       "    </tr>\n",
       "  </thead>\n",
       "  <tbody>\n",
       "    <tr>\n",
       "      <th>0</th>\n",
       "      <td>arxiv</td>\n",
       "      <td>8</td>\n",
       "    </tr>\n",
       "    <tr>\n",
       "      <th>1</th>\n",
       "      <td>ieee</td>\n",
       "      <td>3</td>\n",
       "    </tr>\n",
       "    <tr>\n",
       "      <th>2</th>\n",
       "      <td>intech</td>\n",
       "      <td>1</td>\n",
       "    </tr>\n",
       "    <tr>\n",
       "      <th>3</th>\n",
       "      <td>intechopen</td>\n",
       "      <td>1</td>\n",
       "    </tr>\n",
       "  </tbody>\n",
       "</table>\n",
       "</div>"
      ],
      "text/plain": [
       "       Source  Document Count\n",
       "0       arxiv               8\n",
       "1        ieee               3\n",
       "2      intech               1\n",
       "3  intechopen               1"
      ]
     },
     "execution_count": 7,
     "metadata": {},
     "output_type": "execute_result"
    }
   ],
   "source": [
    "# Step 2: Get the top sources\n",
    "top_sources = processor.get_top_sources(n=10)\n",
    "\n",
    "# Step 3: Visualize the top sources\n",
    "Visualizer.plot_bar_chart(\n",
    "    df=top_sources,\n",
    "    title=\"Top Sources\",\n",
    "    filename=\"top_sources\",\n",
    "    x_col=\"Source\",\n",
    "    y_col=\"Document Count\"\n",
    ")\n",
    "\n",
    "# Step 4: Save the table\n",
    "Reporter.save_to_csv(top_sources, \"top_sources\")\n",
    "\n",
    "# Step 5: Display the table in the notebook\n",
    "top_sources"
   ]
  },
  {
   "cell_type": "code",
   "execution_count": 8,
   "metadata": {},
   "outputs": [
    {
     "data": {
      "text/html": [
       "<div>\n",
       "<style scoped>\n",
       "    .dataframe tbody tr th:only-of-type {\n",
       "        vertical-align: middle;\n",
       "    }\n",
       "\n",
       "    .dataframe tbody tr th {\n",
       "        vertical-align: top;\n",
       "    }\n",
       "\n",
       "    .dataframe thead th {\n",
       "        text-align: right;\n",
       "    }\n",
       "</style>\n",
       "<table border=\"1\" class=\"dataframe\">\n",
       "  <thead>\n",
       "    <tr style=\"text-align: right;\">\n",
       "      <th></th>\n",
       "      <th>Source</th>\n",
       "      <th>Document Count</th>\n",
       "    </tr>\n",
       "  </thead>\n",
       "  <tbody>\n",
       "    <tr>\n",
       "      <th>0</th>\n",
       "      <td>arxiv</td>\n",
       "      <td>8</td>\n",
       "    </tr>\n",
       "    <tr>\n",
       "      <th>1</th>\n",
       "      <td>ieee</td>\n",
       "      <td>3</td>\n",
       "    </tr>\n",
       "    <tr>\n",
       "      <th>2</th>\n",
       "      <td>intech</td>\n",
       "      <td>1</td>\n",
       "    </tr>\n",
       "    <tr>\n",
       "      <th>3</th>\n",
       "      <td>intechopen</td>\n",
       "      <td>1</td>\n",
       "    </tr>\n",
       "  </tbody>\n",
       "</table>\n",
       "</div>"
      ],
      "text/plain": [
       "       Source  Document Count\n",
       "0       arxiv               8\n",
       "1        ieee               3\n",
       "2      intech               1\n",
       "3  intechopen               1"
      ]
     },
     "execution_count": 8,
     "metadata": {},
     "output_type": "execute_result"
    }
   ],
   "source": [
    "top_sources"
   ]
  },
  {
   "cell_type": "code",
   "execution_count": 9,
   "metadata": {},
   "outputs": [],
   "source": [
    "#################################################################################\n",
    "### Function 2 => Proportion of Articles in High-Impact Journals (Pie Chart & Table)\n",
    "#################################################################################"
   ]
  },
  {
   "cell_type": "markdown",
   "metadata": {},
   "source": [
    "### **Indicator: Proportion of Articles in High-Impact Journals**\n",
    "\n",
    "This indicator analyzes the dataset to determine the proportion of articles published in high-impact journals. High-impact journals are identified from a predefined list or external rankings, helping highlight the dataset's relevance to key academic venues.\n",
    "\n",
    "#### **How to Interpret**\n",
    "- **Pie Chart**: Shows the percentage of articles in high-impact journals vs. other journals.\n",
    "- **Insights**: A higher proportion of articles in high-impact journals suggests the dataset's focus on reputable academic sources.\n"
   ]
  },
  {
   "cell_type": "code",
   "execution_count": 10,
   "metadata": {
    "scrolled": true
   },
   "outputs": [
    {
     "data": {
      "image/png": "[encoded data removed]",
      "text/plain": [
       "<Figure size 800x800 with 1 Axes>"
      ]
     },
     "metadata": {},
     "output_type": "display_data"
    },
    {
     "name": "stdout",
     "output_type": "stream",
     "text": [
      "Saved to ../output/m2_authors/high_impact_proportion.csv\n",
      "Dynamic High-Impact Journals List:\n",
      "['arxiv', 'ieee', 'intech', 'intechopen']\n",
      "High-Impact Proportion Table:\n"
     ]
    },
    {
     "data": {
      "text/html": [
       "<div>\n",
       "<style scoped>\n",
       "    .dataframe tbody tr th:only-of-type {\n",
       "        vertical-align: middle;\n",
       "    }\n",
       "\n",
       "    .dataframe tbody tr th {\n",
       "        vertical-align: top;\n",
       "    }\n",
       "\n",
       "    .dataframe thead th {\n",
       "        text-align: right;\n",
       "    }\n",
       "</style>\n",
       "<table border=\"1\" class=\"dataframe\">\n",
       "  <thead>\n",
       "    <tr style=\"text-align: right;\">\n",
       "      <th></th>\n",
       "      <th>Category</th>\n",
       "      <th>Article Count</th>\n",
       "    </tr>\n",
       "  </thead>\n",
       "  <tbody>\n",
       "    <tr>\n",
       "      <th>0</th>\n",
       "      <td>High Impact Journals</td>\n",
       "      <td>13</td>\n",
       "    </tr>\n",
       "    <tr>\n",
       "      <th>1</th>\n",
       "      <td>Other Journals</td>\n",
       "      <td>40</td>\n",
       "    </tr>\n",
       "  </tbody>\n",
       "</table>\n",
       "</div>"
      ],
      "text/plain": [
       "               Category  Article Count\n",
       "0  High Impact Journals             13\n",
       "1        Other Journals             40"
      ]
     },
     "execution_count": 10,
     "metadata": {},
     "output_type": "execute_result"
    }
   ],
   "source": [
    "# Step 1: Calculate high-impact proportions and unpack the tuple\n",
    "high_impact_proportion, dynamic_high_impact_list = processor.calculate_high_impact_proportion(n=5)\n",
    "\n",
    "# Step 2: Visualize the proportions\n",
    "Visualizer.plot_pie_chart(\n",
    "    df=high_impact_proportion,  # Use the unpacked DataFrame\n",
    "    title=\"Proportion of Articles in High-Impact Journals\",\n",
    "    filename=\"high_impact_proportion\",\n",
    "    labels_col=\"Category\",\n",
    "    values_col=\"Article Count\"\n",
    ")\n",
    "\n",
    "# Step 3: Save the table\n",
    "Reporter.save_to_csv(high_impact_proportion, \"high_impact_proportion\")\n",
    "\n",
    "# Display the dynamic high-impact list and the proportion table\n",
    "print(\"Dynamic High-Impact Journals List:\")\n",
    "print(dynamic_high_impact_list)\n",
    "\n",
    "print(\"High-Impact Proportion Table:\")\n",
    "high_impact_proportion"
   ]
  }
 ],
 "metadata": {
  "kernelspec": {
   "display_name": "Python 3 (ipykernel)",
   "language": "python",
   "name": "python3"
  },
  "language_info": {
   "codemirror_mode": {
    "name": "ipython",
    "version": 3
   },
   "file_extension": ".py",
   "mimetype": "text/x-python",
   "name": "python",
   "nbconvert_exporter": "python",
   "pygments_lexer": "ipython3",
   "version": "3.8.20"
  }
 },
 "nbformat": 4,
 "nbformat_minor": 4
}
