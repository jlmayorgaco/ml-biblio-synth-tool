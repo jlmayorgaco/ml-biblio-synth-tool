{
 "cells": [
  {
   "cell_type": "code",
   "execution_count": 1,
   "metadata": {},
   "outputs": [
    {
     "name": "stderr",
     "output_type": "stream",
     "text": [
      "[nltk_data] Downloading package words to\n",
      "[nltk_data]     /Users/jorge.mayorga/nltk_data...\n",
      "[nltk_data]   Package words is already up-to-date!\n",
      "[nltk_data] Downloading package stopwords to\n",
      "[nltk_data]     /Users/jorge.mayorga/nltk_data...\n",
      "[nltk_data]   Package stopwords is already up-to-date!\n",
      "[nltk_data] Downloading package punkt to\n",
      "[nltk_data]     /Users/jorge.mayorga/nltk_data...\n",
      "[nltk_data]   Package punkt is already up-to-date!\n",
      "[nltk_data] Downloading package wordnet to\n",
      "[nltk_data]     /Users/jorge.mayorga/nltk_data...\n",
      "[nltk_data]   Package wordnet is already up-to-date!\n",
      "[nltk_data] Downloading package punkt to\n",
      "[nltk_data]     /Users/jorge.mayorga/nltk_data...\n",
      "[nltk_data]   Package punkt is already up-to-date!\n",
      "[nltk_data] Downloading package punkt_tab to\n",
      "[nltk_data]     /Users/jorge.mayorga/nltk_data...\n",
      "[nltk_data]   Package punkt_tab is already up-to-date!\n",
      "[nltk_data] Downloading package stopwords to\n",
      "[nltk_data]     /Users/jorge.mayorga/nltk_data...\n",
      "[nltk_data]   Package stopwords is already up-to-date!\n"
     ]
    },
    {
     "data": {
      "text/plain": [
       "True"
      ]
     },
     "execution_count": 1,
     "metadata": {},
     "output_type": "execute_result"
    }
   ],
   "source": [
    "### import importlib\n",
    "import spacy\n",
    "\n",
    "import sys\n",
    "import os\n",
    "import re\n",
    "\n",
    "import nltk\n",
    "from nltk.corpus import words\n",
    "from nltk.corpus import stopwords\n",
    "from nltk.tokenize import word_tokenize\n",
    "from nltk.stem import WordNetLemmatizer\n",
    "\n",
    "nltk.download('words')\n",
    "nltk.download('stopwords')\n",
    "nltk.download('punkt')\n",
    "nltk.download('wordnet')\n",
    "english_vocab = set(words.words())\n",
    "\n",
    "nlp = spacy.load(\"en_core_web_sm\")\n",
    "\n",
    "from sklearn.feature_extraction.text import TfidfVectorizer\n",
    "from sklearn.model_selection import train_test_split\n",
    "from sklearn.feature_extraction.text import CountVectorizer\n",
    "from sklearn.ensemble import RandomForestClassifier\n",
    "from sklearn.metrics.pairwise import cosine_similarity\n",
    "\n",
    "import pandas as pd\n",
    "import networkx as nx\n",
    "from textblob import TextBlob\n",
    "\n",
    "# Add the 'src' directory to the system path\n",
    "sys.path.append(os.path.abspath('../src'))\n",
    "src_path = os.path.abspath('../src')\n",
    "\n",
    "nltk.download('punkt')\n",
    "nltk.download('punkt_tab')\n",
    "nltk.download('stopwords')"
   ]
  },
  {
   "cell_type": "code",
   "execution_count": 2,
   "metadata": {},
   "outputs": [],
   "source": [
    "# Import classes from the modules using their correct filenames\n",
    "from DataLoaderClass import DataLoader"
   ]
  },
  {
   "cell_type": "code",
   "execution_count": 3,
   "metadata": {},
   "outputs": [],
   "source": [
    "# Initialize paths\n",
    "BIB_FILE_PATH = '../examples/EX2_POWER_SYSTEM_FPGA_FREQUENCY_ESTIMATORS/index.bib'\n",
    "PDF_FOLDER_PATH = '../examples/EX2_POWER_SYSTEM_FPGA_FREQUENCY_ESTIMATORS/files'"
   ]
  },
  {
   "cell_type": "code",
   "execution_count": 4,
   "metadata": {},
   "outputs": [
    {
     "name": "stdout",
     "output_type": "stream",
     "text": [
      "\n",
      "Matching process completed.\n",
      "Total references matched: 53 out of 53\n",
      "Unmatched References: 0\n",
      "\n",
      "Unmatched PDF Folders: 0\n"
     ]
    }
   ],
   "source": [
    "# Step 1: Data Loading and Processing\n",
    "loader = DataLoader(BIB_FILE_PATH, PDF_FOLDER_PATH)\n",
    "processed_data = loader.load_and_process()"
   ]
  },
  {
   "cell_type": "code",
   "execution_count": 5,
   "metadata": {},
   "outputs": [],
   "source": [
    "# -------------------------------------------------------------- #\n",
    "# -- EDA M4 :: Quotes & Cites ---------------------------------- #\n",
    "# -------------------------------------------------------------- #\n",
    "from eda.m4_quotes_analysis import Processor\n",
    "from eda.m4_quotes_analysis import Visualizer\n",
    "from eda.m4_quotes_analysis import Reporter\n",
    "# -------------------------------------------------------------- #\n",
    "\n",
    "# Data\n",
    "data = processed_data\n",
    "\n",
    "# Process data\n",
    "processor = Processor(data)\n",
    "visualizer = Visualizer()\n",
    "reporter = Reporter()"
   ]
  },
  {
   "cell_type": "code",
   "execution_count": 6,
   "metadata": {},
   "outputs": [],
   "source": [
    "#################################################################################\n",
    "### Function 1 => Most Frequent Quotes (Table & Barplot)\n",
    "#################################################################################"
   ]
  },
  {
   "cell_type": "code",
   "execution_count": 7,
   "metadata": {},
   "outputs": [],
   "source": [
    "def split_long_word_with_vocab(word, vocabulary):\n",
    "    \"\"\"\n",
    "    Split a long word into subwords using a predefined English vocabulary.\n",
    "    \"\"\"\n",
    "    subwords = []\n",
    "    current = word.lower()\n",
    "    while current:\n",
    "        match = None\n",
    "        for i in range(len(current), 0, -1):\n",
    "            substring = current[:i]\n",
    "            if substring in vocabulary:\n",
    "                match = substring\n",
    "                break\n",
    "        if match:\n",
    "            subwords.append(match)\n",
    "            current = current[len(match):]\n",
    "        else:\n",
    "            subwords.append(current)  # Keep as is if no match\n",
    "            break\n",
    "    return subwords\n",
    "\n",
    "def clean_and_split_text_with_vocab(plain_text, vocabulary):\n",
    "    \"\"\"\n",
    "    Clean and split text using vocabulary-based splitting.\n",
    "    \"\"\"\n",
    "    # Lowercase and remove non-alphabetic characters\n",
    "    plain_text = re.sub(r'[^a-zA-Z\\s]', ' ', plain_text.lower())\n",
    "\n",
    "    # Tokenize the text\n",
    "    tokens = word_tokenize(plain_text)\n",
    "\n",
    "    # Remove stop words and single characters\n",
    "    stop_words = set(stopwords.words('english'))\n",
    "    tokens = [word for word in tokens if word not in stop_words and len(word) > 1]\n",
    "\n",
    "    # Split concatenated words using the vocabulary\n",
    "    split_tokens = []\n",
    "    for token in tokens:\n",
    "        if len(token) > 10:  # Treat long words as concatenated\n",
    "            split_tokens.extend(split_long_word_with_vocab(token, vocabulary))\n",
    "        else:\n",
    "            split_tokens.append(token)\n",
    "\n",
    "    # Lemmatize the words with SpaCy\n",
    "    lemmatized_words = []\n",
    "    for token in nlp(\" \".join(split_tokens)):\n",
    "        if token.is_alpha and not token.is_stop:\n",
    "            lemmatized_words.append(token.lemma_)\n",
    "\n",
    "    # Remove domain-specific noise words\n",
    "    noise_words = {\"doi\", \"org\", \"http\", \"https\", \"www\"}\n",
    "    lemmatized_words = [word for word in lemmatized_words if word not in noise_words]\n",
    "    \n",
    "    return lemmatized_words\n",
    "\n",
    "def process_document(doc, vocabulary):\n",
    "    \"\"\"\n",
    "    Process a single document:\n",
    "    - Cleans and tokenizes plain_text.\n",
    "    - Splits authors into a list.\n",
    "    \"\"\"\n",
    "    # Extract and clean plain_text\n",
    "    plain_text = doc.get('plain_text', '')\n",
    "    words = clean_and_split_text_with_vocab(plain_text, vocabulary)\n",
    "\n",
    "    # Split authors into a list\n",
    "    authors_raw = doc.get('bibliographic_metadata', {}).get('author', '')\n",
    "    authors = [author.strip() for part in authors_raw.split(\",\") for author in part.split(\" and \")]\n",
    "\n",
    "    # Add the processed data to the document\n",
    "    doc['words'] = words\n",
    "    doc['authors'] = authors\n",
    "\n",
    "    return doc\n",
    "\n",
    "\n",
    "def process_documents(data, vocabulary):\n",
    "    \"\"\"\n",
    "    Process a list of documents using the vocabulary.\n",
    "    \"\"\"\n",
    "    return [process_document(doc, vocabulary) for doc in data]"
   ]
  },
  {
   "cell_type": "code",
   "execution_count": 8,
   "metadata": {},
   "outputs": [],
   "source": [
    "# Process the documents\n",
    "no_one_letter_english_vocab = [word for word in english_vocab if len(word) > 1]\n",
    "processed_data = process_documents(data, no_one_letter_english_vocab)"
   ]
  },
  {
   "cell_type": "code",
   "execution_count": 9,
   "metadata": {},
   "outputs": [],
   "source": [
    "def flatten_metadata(docs):\n",
    "    \"\"\"\n",
    "    Flatten the bibliographic_metadata into individual columns for each document.\n",
    "    \"\"\"\n",
    "    flattened_docs = []\n",
    "    for doc in docs:\n",
    "        # Extract bibliographic_metadata and flatten it\n",
    "        metadata = doc.pop(\"bibliographic_metadata\", {})\n",
    "        flattened_doc = {**doc, **metadata}  # Merge metadata into the main doc\n",
    "        flattened_docs.append(flattened_doc)\n",
    "    return flattened_docs\n",
    "\n",
    "# Flatten the metadata in processed_data\n",
    "flattened_data = flatten_metadata(processed_data)\n",
    "\n",
    "# Convert to a pandas DataFrame for tabular representation\n",
    "import pandas as pd\n",
    "df = pd.DataFrame(flattened_data)\n"
   ]
  },
  {
   "cell_type": "code",
   "execution_count": 45,
   "metadata": {},
   "outputs": [],
   "source": [
    "# Use your DataFrame\n",
    "df = pd.DataFrame(flattened_data)\n",
    "df['joined_words'] = df['words'].apply(lambda words: ' '.join(words) if isinstance(words, list) else '')"
   ]
  },
  {
   "cell_type": "code",
   "execution_count": 48,
   "metadata": {},
   "outputs": [],
   "source": [
    "from gensim.models import Word2Vec\n",
    "from nltk.tokenize import word_tokenize\n",
    "\n",
    "def train_word2vec_model(author_name, df):\n",
    "    \"\"\"\n",
    "    Train a Word2Vec model on all documents of a specific author.\n",
    "    \"\"\"\n",
    "    # Filter documents by the given author\n",
    "    author_docs = df[df['authors'].apply(lambda x: author_name in x)]['joined_words']\n",
    "    \n",
    "    # Tokenize words in all documents\n",
    "    tokenized_docs = [word_tokenize(doc.lower()) for doc in author_docs if isinstance(doc, str)]\n",
    "    \n",
    "    # Train the Word2Vec model\n",
    "    model = Word2Vec(sentences=tokenized_docs, vector_size=100, window=5, min_count=1, workers=4)\n",
    "    \n",
    "    return model\n",
    "\n",
    "def recommend_context_words(word, model, top_n=5):\n",
    "    \"\"\"\n",
    "    Find words most similar to the input word using the Word2Vec model.\n",
    "    \"\"\"\n",
    "    if word in model.wv:\n",
    "        # Get the top N most similar words\n",
    "        similar_words = model.wv.most_similar(word, topn=top_n)\n",
    "        return similar_words\n",
    "    else:\n",
    "        return f\"'{word}' not found in the vocabulary.\"\n"
   ]
  },
  {
   "cell_type": "code",
   "execution_count": 49,
   "metadata": {},
   "outputs": [],
   "source": [
    "# Example usage\n",
    "author_name = \"Chughtai\"\n",
    "input_word = \"harmonics\"\n",
    "\n",
    "# Train the Word2Vec model for a specific author\n",
    "author_model = train_word2vec_model(author_name, df)"
   ]
  },
  {
   "cell_type": "code",
   "execution_count": 50,
   "metadata": {},
   "outputs": [
    {
     "name": "stdout",
     "output_type": "stream",
     "text": [
      "[('frequency', 0.3139091432094574), ('phase', 0.3130474388599396), ('test', 0.3085609972476959), ('jaimeg', 0.29295074939727783), ('sthe', 0.29214727878570557), ('number', 0.2820521891117096), ('well', 0.2759539783000946), ('control', 0.27100300788879395), ('simulation', 0.2673923373222351), ('show', 0.2645000219345093), ('sthis', 0.26361462473869324), ('estimator', 0.2630468010902405), ('power', 0.25569844245910645), ('propose', 0.2556129992008209), ('variation', 0.2541202902793884), ('section', 0.2478303164243698), ('ion', 0.24703849852085114), ('need', 0.2465755045413971), ('linear', 0.24469923973083496), ('sec', 0.24341973662376404)]\n"
     ]
    }
   ],
   "source": [
    "# Get recommendations\n",
    "recommended_words = recommend_context_words(input_word, author_model, top_n=20)\n",
    "print(recommended_words)"
   ]
  },
  {
   "cell_type": "code",
   "execution_count": null,
   "metadata": {},
   "outputs": [],
   "source": []
  },
  {
   "cell_type": "code",
   "execution_count": null,
   "metadata": {},
   "outputs": [],
   "source": []
  },
  {
   "cell_type": "code",
   "execution_count": null,
   "metadata": {},
   "outputs": [],
   "source": []
  },
  {
   "cell_type": "code",
   "execution_count": 52,
   "metadata": {},
   "outputs": [
    {
     "name": "stdout",
     "output_type": "stream",
     "text": [
      "Number of documents for 'Chughtai': 1\n",
      "filtered_df: 1\n",
      "Number of valid documents: 1\n",
      "Vocabulary size: 1000\n",
      "{'Topic 1': ['power', 'method', 'filter', 'cid', 'frequency'], 'Topic 2': ['lockedas', 'loop', 'ls', 'li', 'minim'], 'Topic 3': ['lockedas', 'loop', 'ls', 'li', 'minim'], 'Topic 4': ['lockedas', 'loop', 'ls', 'li', 'minim'], 'Topic 5': ['lockedas', 'loop', 'ls', 'li', 'minim']}\n"
     ]
    }
   ],
   "source": [
    "from sklearn.decomposition import LatentDirichletAllocation\n",
    "from sklearn.feature_extraction.text import CountVectorizer\n",
    "\n",
    "def recommend_words_lda(author_name, input_word, df, top_n=5):\n",
    "    \"\"\"\n",
    "    Recommend words based on topics identified by LDA for a given author and input word.\n",
    "    \"\"\"\n",
    "    # Filter documents for the author\n",
    "    filtered_df = df[df['authors'].apply(lambda x: isinstance(x, list) and author_name in x)]\n",
    "    print(f\"Number of documents for '{author_name}': {len(filtered_df)}\")\n",
    "    \n",
    "    # Check if the filtered DataFrame is empty\n",
    "    if filtered_df.empty:\n",
    "        raise ValueError(f\"No valid documents found for author '{author_name}'.\")\n",
    "\n",
    "    # Clean and validate the joined_words column\n",
    "    author_docs = filtered_df['joined_words'].dropna().apply(str).str.strip()\n",
    "    author_docs = author_docs[author_docs != '']  # Remove empty strings\n",
    "    \n",
    "    print(f\"filtered_df: {len(filtered_df)}\")\n",
    "    print(f\"Number of valid documents: {len(author_docs)}\")\n",
    "    \n",
    "    if author_docs.empty:\n",
    "        raise ValueError(f\"No valid text data found for author '{author_name}'.\")\n",
    "\n",
    "    # Create a document-term matrix\n",
    "    vectorizer = CountVectorizer(max_features=1000, stop_words='english')\n",
    "    doc_term_matrix = vectorizer.fit_transform(author_docs)\n",
    "\n",
    "    # Debug: Check vocabulary size\n",
    "    vocab_size = len(vectorizer.get_feature_names_out())\n",
    "    print(f\"Vocabulary size: {vocab_size}\")\n",
    "    if vocab_size == 0:\n",
    "        raise ValueError(\"Empty vocabulary; no valid words to process.\")\n",
    "\n",
    "    # Train LDA\n",
    "    lda = LatentDirichletAllocation(n_components=5, random_state=42)\n",
    "    lda.fit(doc_term_matrix)\n",
    "\n",
    "    # Get topics for the input word\n",
    "    word_index = vectorizer.vocabulary_.get(input_word.lower())\n",
    "    if word_index is None:\n",
    "        return f\"'{input_word}' not found in the vocabulary.\"\n",
    "\n",
    "    # Topic distribution for the word\n",
    "    word_topic_distribution = lda.components_[:, word_index]\n",
    "    related_words = lda.components_.argsort(axis=1)[:, -top_n:]\n",
    "\n",
    "    # Return top words for each topic\n",
    "    feature_names = vectorizer.get_feature_names_out()\n",
    "    return {f\"Topic {i+1}\": [feature_names[idx] for idx in related_words[i]] for i in range(lda.n_components)}\n",
    "\n",
    "\n",
    "recommended_words = recommend_words_lda(\"Chughtai\", \"harmonics\", df)\n",
    "print(recommended_words)\n"
   ]
  },
  {
   "cell_type": "code",
   "execution_count": 44,
   "metadata": {},
   "outputs": [
    {
     "name": "stdout",
     "output_type": "stream",
     "text": [
      "                                             authors joined_words\n",
      "0    [Chughtai, Aamir Hussain, Awan, Muhammad Saqib]             \n",
      "1                             [Yan, Ziming, Xu, Yan]             \n",
      "2  [Zhao, Junbo, Netto, Marcos, Huang, Zhenyu, Yu...             \n",
      "3                                                 []             \n",
      "4  [Arablouei, Reza, Werner, Stefan, Dogancay, Ku...             \n"
     ]
    }
   ],
   "source": [
    "print(df[['authors', 'joined_words']].head())"
   ]
  },
  {
   "cell_type": "code",
   "execution_count": null,
   "metadata": {},
   "outputs": [],
   "source": []
  },
  {
   "cell_type": "code",
   "execution_count": null,
   "metadata": {},
   "outputs": [],
   "source": []
  },
  {
   "cell_type": "code",
   "execution_count": null,
   "metadata": {},
   "outputs": [],
   "source": []
  },
  {
   "cell_type": "code",
   "execution_count": null,
   "metadata": {},
   "outputs": [],
   "source": []
  },
  {
   "cell_type": "code",
   "execution_count": 53,
   "metadata": {},
   "outputs": [
    {
     "name": "stdout",
     "output_type": "stream",
     "text": [
      "[('variation', 0.9857138395309448), ('change', 0.984373152256012), ('instantaneous', 0.9821791648864746), ('rate', 0.9808174967765808), ('deviation', 0.9806910753250122)]\n"
     ]
    }
   ],
   "source": [
    "from gensim.models import Word2Vec\n",
    "\n",
    "def train_word2vec_model(df):\n",
    "    # Use the 'joined_words' column to train Word2Vec\n",
    "    tokenized_docs = [doc.split() for doc in df['joined_words'] if isinstance(doc, str)]\n",
    "    model = Word2Vec(sentences=tokenized_docs, vector_size=100, window=5, min_count=1, workers=4)\n",
    "    return model\n",
    "\n",
    "def recommend_similar_words_w2v(author_name, input_word, model, top_n=5):\n",
    "    if input_word in model.wv:\n",
    "        return model.wv.most_similar(input_word, topn=top_n)\n",
    "    else:\n",
    "        return f\"'{input_word}' not found in the vocabulary.\"\n",
    "\n",
    "# Example usage\n",
    "word2vec_model = train_word2vec_model(df)\n",
    "recommendations = recommend_similar_words_w2v(\"Chughtai\", \"frequency\", word2vec_model)\n",
    "print(recommendations)"
   ]
  },
  {
   "cell_type": "code",
   "execution_count": null,
   "metadata": {},
   "outputs": [],
   "source": []
  },
  {
   "cell_type": "code",
   "execution_count": null,
   "metadata": {},
   "outputs": [],
   "source": []
  },
  {
   "cell_type": "code",
   "execution_count": null,
   "metadata": {},
   "outputs": [],
   "source": []
  },
  {
   "cell_type": "code",
   "execution_count": null,
   "metadata": {},
   "outputs": [],
   "source": []
  },
  {
   "cell_type": "code",
   "execution_count": null,
   "metadata": {},
   "outputs": [],
   "source": []
  },
  {
   "cell_type": "code",
   "execution_count": 56,
   "metadata": {},
   "outputs": [
    {
     "name": "stdout",
     "output_type": "stream",
     "text": [
      "                                         joined_words  cluster\n",
      "0   electrical engineering original paper estimati...        0\n",
      "1   article accept publication future issue journa...        0\n",
      "2   article accept publication future issue journa...        0\n",
      "3   international journal trend research developme...        0\n",
      "4   th ieee international workshop computational a...        0\n",
      "5   sci int lahore issn coden sinte new approach f...        0\n",
      "6   simple frequency estimator power system sha fi...        0\n",
      "7   ieee transaction s industrial inform ics linea...        0\n",
      "8   robust estimation fundamental frequency positi...        0\n",
      "9   new approach power system frequency estimation...        0\n",
      "10  electric power system research content list av...        0\n",
      "11  ie eetransactionsonpowerdelivery vol july appl...        0\n",
      "12  solar energy content list available science ir...        0\n",
      "13  avrupa bilim teknoloji dergisi european journa...        0\n",
      "14  jes vol january jesaun electrical engineering ...        0\n",
      "15  apply soft computing elsevi com locate ocmachi...        0\n",
      "16  ie eetransactionsonpowerdelivery vol april est...        0\n",
      "17  kalman filter power electronic power system s ...        1\n",
      "18  ie eetransactionsonpowerdelivery vol july powe...        0\n",
      "19  power system fundamental frequency estimation ...        0\n",
      "20  ie eetransactionsoninstrumentationandmeasureme...        0\n",
      "21  ie eetransactionsonpowerdelivery vol july hybr...        0\n",
      "22  chaptera scalable fpga base implementation uns...        0\n",
      "23  power system frequency estimation j szafranw r...        0\n",
      "24  electrical power energy system content list av...        0\n",
      "25  article accept publication future issue journa...        0\n",
      "26  distribute widely linear frequency estimation ...        0\n",
      "27  frequency estimation phase power system swith ...        0\n",
      "28  energy efficient quantum frequency estimation ...        0\n",
      "29  direction arrival center frequency estimation ...        0\n",
      "30  predictability power grid frequency johannes k...        0\n",
      "31  database power grid frequency measurement s ri...        0\n",
      "32  maximum likelihood frequency estimation smart ...        0\n",
      "33  preprints st ifac world congress virtual berli...        0\n",
      "34  robust observer base methodology frequency rat...        0\n",
      "35  non standard power grid frequency statistics i...        0\n",
      "36  srequency stimation sing omplex alue hiftedw t...        0\n",
      "37  instantaneous frequency estimation unbalanced ...        0\n",
      "38  highlight sdata drive estimation frequency loa...        0\n",
      "39  asymmetry frequency distribution power system ...        0\n",
      "40  view metadata citation similar paper core ac u...        0\n",
      "41  kalman filter implementation fpgasbyzorawar bh...        0\n",
      "42  copyright elsevi right reserve accept manuscri...        0\n",
      "43  metrol meas syst vol xix pp metrology measurem...        0\n",
      "44  ie eetransactionsoninstrumentationandmeasureme...        0\n",
      "45  american control conference acc boston marriot...        0\n",
      "46  power mean frequency estimator approach fm det...        0\n",
      "47  iacoustic echo noise control partition residua...        0\n",
      "48  ieete ansa ctionoa sn ousticssp ecah signal pr...        0\n",
      "49  electric power system research line estimation...        0\n",
      "50  ie eetransactionsonpowerdelivery vol january n...        0\n",
      "51  ieee til ixsaction infor ation theory vol sept...        0\n",
      "52  electrical power energy system content list av...        0\n"
     ]
    },
    {
     "name": "stderr",
     "output_type": "stream",
     "text": [
      "/opt/anaconda3/envs/ML-Master/lib/python3.8/site-packages/sklearn/cluster/_kmeans.py:1412: FutureWarning: The default value of `n_init` will change from 10 to 'auto' in 1.4. Set the value of `n_init` explicitly to suppress the warning\n",
      "  super()._check_params_vs_input(X, default_n_init=10)\n"
     ]
    }
   ],
   "source": [
    "from sklearn.cluster import KMeans\n",
    "\n",
    "def cluster_words(df, n_clusters=5):\n",
    "    # Vectorize words\n",
    "    vectorizer = CountVectorizer(max_features=1000, stop_words='english')\n",
    "    doc_term_matrix = vectorizer.fit_transform(df['joined_words'])\n",
    "    \n",
    "    # Perform clustering\n",
    "    kmeans = KMeans(n_clusters=n_clusters, random_state=42)\n",
    "    kmeans.fit(doc_term_matrix)\n",
    "    \n",
    "    # Assign cluster labels\n",
    "    df['cluster'] = kmeans.labels_\n",
    "    return df\n",
    "\n",
    "# Example usage\n",
    "clustered_df = cluster_words(df, n_clusters=2)\n",
    "print(clustered_df[['joined_words', 'cluster']])"
   ]
  },
  {
   "cell_type": "code",
   "execution_count": 57,
   "metadata": {},
   "outputs": [
    {
     "name": "stdout",
     "output_type": "stream",
     "text": [
      "Shape of document-term matrix: (53, 1000)\n",
      "Percentage of non-zero values: 40.68%\n",
      "Explained variance ratio: 1.00\n"
     ]
    },
    {
     "name": "stderr",
     "output_type": "stream",
     "text": [
      "/opt/anaconda3/envs/ML-Master/lib/python3.8/site-packages/sklearn/cluster/_kmeans.py:1412: FutureWarning: The default value of `n_init` will change from 10 to 'auto' in 1.4. Set the value of `n_init` explicitly to suppress the warning\n",
      "  super()._check_params_vs_input(X, default_n_init=10)\n"
     ]
    },
    {
     "name": "stdout",
     "output_type": "stream",
     "text": [
      "         joined_words\n",
      "cluster              \n",
      "0                  49\n",
      "1                   1\n",
      "2                   1\n",
      "3                   1\n",
      "4                   1\n"
     ]
    },
    {
     "data": {
      "image/png": "[encoded data removed]",
      "text/plain": [
       "<Figure size 640x480 with 2 Axes>"
      ]
     },
     "metadata": {},
     "output_type": "display_data"
    }
   ],
   "source": [
    "from sklearn.feature_extraction.text import CountVectorizer\n",
    "from sklearn.decomposition import TruncatedSVD\n",
    "from sklearn.cluster import KMeans\n",
    "import matplotlib.pyplot as plt\n",
    "\n",
    "# Step 1: Create the Document-Term Matrix\n",
    "vectorizer = CountVectorizer(max_features=1000, stop_words='english')\n",
    "doc_term_matrix = vectorizer.fit_transform(df['joined_words'])\n",
    "\n",
    "# Debug: Check sparsity\n",
    "print(f\"Shape of document-term matrix: {doc_term_matrix.shape}\")\n",
    "print(f\"Percentage of non-zero values: {doc_term_matrix.nnz / (doc_term_matrix.shape[0] * doc_term_matrix.shape[1]) * 100:.2f}%\")\n",
    "\n",
    "# Step 2: Apply TruncatedSVD for Dimensionality Reduction\n",
    "svd = TruncatedSVD(n_components=50, random_state=42)  # Reduce to 50 dimensions\n",
    "reduced_matrix = svd.fit_transform(doc_term_matrix)\n",
    "\n",
    "# Debug: Check variance explained\n",
    "print(f\"Explained variance ratio: {svd.explained_variance_ratio_.sum():.2f}\")\n",
    "\n",
    "# Step 3: Apply K-Means Clustering\n",
    "kmeans = KMeans(n_clusters=5, random_state=42)\n",
    "df['cluster'] = kmeans.fit_predict(reduced_matrix)\n",
    "\n",
    "# Debug: View cluster distribution\n",
    "print(df[['joined_words', 'cluster']].groupby('cluster').count())\n",
    "\n",
    "# Step 4: Visualize the Clusters (Optional, for 2D projection)\n",
    "plt.scatter(reduced_matrix[:, 0], reduced_matrix[:, 1], c=df['cluster'], cmap='viridis', s=10)\n",
    "plt.colorbar()\n",
    "plt.title('Document Clusters')\n",
    "plt.xlabel('Dimension 1')\n",
    "plt.ylabel('Dimension 2')\n",
    "plt.show()"
   ]
  },
  {
   "cell_type": "code",
   "execution_count": null,
   "metadata": {},
   "outputs": [],
   "source": []
  }
 ],
 "metadata": {
  "kernelspec": {
   "display_name": "Python 3 (ipykernel)",
   "language": "python",
   "name": "python3"
  },
  "language_info": {
   "codemirror_mode": {
    "name": "ipython",
    "version": 3
   },
   "file_extension": ".py",
   "mimetype": "text/x-python",
   "name": "python",
   "nbconvert_exporter": "python",
   "pygments_lexer": "ipython3",
   "version": "3.8.20"
  }
 },
 "nbformat": 4,
 "nbformat_minor": 4
}
