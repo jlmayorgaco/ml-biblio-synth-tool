{
 "cells": [
  {
   "cell_type": "markdown",
   "metadata": {},
   "source": [
    "### import importlib\n",
    "import sys\n",
    "import os\n",
    "import nltk\n",
    "import pandas as pd\n",
    "import networkx as nx\n",
    "\n",
    "# Add the 'src' directory to the system path\n",
    "sys.path.append(os.path.abspath('../src'))\n",
    "src_path = os.path.abspath('../src')\n",
    "\n",
    "nltk.download('punkt')\n",
    "nltk.download('punkt_tab')\n",
    "nltk.download('stopwords')"
   ]
  },
  {
   "cell_type": "code",
   "execution_count": 1,
   "metadata": {},
   "outputs": [
    {
     "ename": "ModuleNotFoundError",
     "evalue": "No module named 'DataLoaderClass'",
     "output_type": "error",
     "traceback": [
      "\u001b[0;31m---------------------------------------------------------------------------\u001b[0m",
      "\u001b[0;31mModuleNotFoundError\u001b[0m                       Traceback (most recent call last)",
      "Cell \u001b[0;32mIn[1], line 2\u001b[0m\n\u001b[1;32m      1\u001b[0m \u001b[38;5;66;03m# Import classes from the modules using their correct filenames\u001b[39;00m\n\u001b[0;32m----> 2\u001b[0m \u001b[38;5;28;01mfrom\u001b[39;00m \u001b[38;5;21;01mDataLoaderClass\u001b[39;00m \u001b[38;5;28;01mimport\u001b[39;00m DataLoader\n",
      "\u001b[0;31mModuleNotFoundError\u001b[0m: No module named 'DataLoaderClass'"
     ]
    }
   ],
   "source": [
    "# Import classes from the modules using their correct filenames\n",
    "from DataLoaderClass import DataLoader"
   ]
  },
  {
   "cell_type": "code",
   "execution_count": null,
   "metadata": {},
   "outputs": [],
   "source": [
    "# Initialize paths\n",
    "BIB_FILE_PATH = '../examples/EX1_POWER_SYSTEM_FPGA_FREQUENCY_ESTIMATORS/index.bib'\n",
    "PDF_FOLDER_PATH = '../examples/EX1_POWER_SYSTEM_FPGA_FREQUENCY_ESTIMATORS/files'"
   ]
  },
  {
   "cell_type": "code",
   "execution_count": null,
   "metadata": {},
   "outputs": [],
   "source": [
    "# Step 1: Data Loading and Processing\n",
    "loader = DataLoader(BIB_FILE_PATH, PDF_FOLDER_PATH)\n",
    "processed_data = loader.load_and_process()"
   ]
  },
  {
   "cell_type": "code",
   "execution_count": null,
   "metadata": {},
   "outputs": [],
   "source": [
    "# -------------------------------------------------------------- #\n",
    "# -- EDA M3 :: Sources ----------------------------------------- #\n",
    "# -------------------------------------------------------------- #\n",
    "from eda.m3_sources_analysis import Processor\n",
    "from eda.m3_sources_analysis import Visualizer\n",
    "from eda.m3_sources_analysis import Reporter\n",
    "# -------------------------------------------------------------- #\n",
    "\n",
    "# Data\n",
    "data = processed_data\n",
    "\n",
    "# Process data\n",
    "processor = Processor(data)\n",
    "visualizer = Visualizer()\n",
    "reporter = Reporter()"
   ]
  },
  {
   "cell_type": "code",
   "execution_count": null,
   "metadata": {},
   "outputs": [],
   "source": [
    "#################################################################################\n",
    "### Function 1 => Most Frequent Quotes (Table & Barplot)\n",
    "#################################################################################"
   ]
  },
  {
   "cell_type": "code",
   "execution_count": null,
   "metadata": {},
   "outputs": [],
   "source": [
    "# Step 1: Extract and count most frequent quotes\n",
    "top_quotes = processor.get_most_frequent_quotes(n=10)\n",
    "\n",
    "# Step 2: Visualize the most frequent quotes\n",
    "Visualizer.plot_most_frequent_quotes(\n",
    "    df=top_quotes,\n",
    "    title=\"Top 10 Most Frequent Quotes\",\n",
    "    filename=\"most_frequent_quotes\"\n",
    ")\n",
    "\n",
    "# Step 3: Save the table\n",
    "Reporter.save_to_csv(top_quotes, \"most_frequent_quotes\")\n",
    "\n",
    "# Step 4: Display the table\n",
    "top_quotes"
   ]
  },
  {
   "cell_type": "code",
   "execution_count": null,
   "metadata": {},
   "outputs": [],
   "source": [
    "#################################################################################\n",
    "### Function 2 => Quotes by Year (Table & Line Chart)\n",
    "#################################################################################"
   ]
  },
  {
   "cell_type": "markdown",
   "metadata": {},
   "source": [
    "### **Function 2: Quotes by Year**\n",
    "\n",
    "#### **Overview**:\n",
    "This analysis examines how quotes are distributed over time, providing insights into the evolution of popular ideas and recurring themes in the dataset. By grouping quotes by year and counting their occurrences, we can track the rise or decline of specific quotes.\n",
    "\n",
    "#### **Interpretation**:\n",
    "- **Emerging Quotes**: Quotes that appear frequently in recent years may indicate emerging ideas or trends in the field.\n",
    "- **Declining Quotes**: Quotes that were more common in earlier years but less so now might represent outdated concepts or fading interest.\n",
    "- **Consistent Quotes**: Quotes with steady usage across years may highlight foundational or widely accepted principles."
   ]
  },
  {
   "cell_type": "code",
   "execution_count": null,
   "metadata": {},
   "outputs": [],
   "source": [
    "# Step 1: Analyze quotes by year\n",
    "quotes_by_year = processor.get_quotes_by_year()\n",
    "\n",
    "# Step 2: Visualize the trends of quotes over time\n",
    "Visualizer.plot_quote_trends(\n",
    "    df=quotes_by_year,\n",
    "    title=\"Quote Trends Over Time\",\n",
    "    filename=\"quote_trends\"\n",
    ")\n",
    "\n",
    "# Step 3: Save the table\n",
    "Reporter.save_to_csv(quotes_by_year, \"quotes_by_year\")\n",
    "\n",
    "# Step 4: Display the table\n",
    "quotes_by_year.head(10)"
   ]
  },
  {
   "cell_type": "code",
   "execution_count": null,
   "metadata": {},
   "outputs": [],
   "source": [
    "#################################################################################\n",
    "### Function 3 => Quotes Context Analysis (Table)\n",
    "#################################################################################"
   ]
  },
  {
   "cell_type": "markdown",
   "metadata": {},
   "source": [
    "### **Function 3: Quotes Context Analysis**\n",
    "\n",
    "#### **Overview**:\n",
    "This analysis extracts the context in which specific quotes appear, including sentences or paragraphs before and after the quote. It helps understand how quotes are used and their relevance to the surrounding discussion.\n",
    "\n",
    "#### **Interpretation**:\n",
    "- **Contextual Insights**: Analyze the sentences around a quote to better understand its role in the text.\n",
    "- **Relevance**: Identify how quotes are used to support arguments or highlight key ideas.\n",
    "- **Metadata**: Connect quotes to their associated metadata, such as title, authors, and year, for a richer understanding."
   ]
  },
  {
   "cell_type": "code",
   "execution_count": null,
   "metadata": {},
   "outputs": [],
   "source": [
    "\n",
    "\n",
    "# Step 1: Define quotes to analyze\n",
    "quotes_to_analyze = [\n",
    "    \"Frequency is a challenging parameter to estimate.\",\n",
    "    \"Power systems require stability and robustness.\"\n",
    "]\n",
    "\n",
    "# Step 2: Extract contexts for selected quotes\n",
    "quote_contexts = processor.get_quote_contexts(quotes_to_analyze, context_window=2)\n",
    "\n",
    "# Step 3: Save the table\n",
    "Reporter.save_to_csv(quote_contexts, \"quote_contexts\")\n",
    "\n",
    "# Step 4: Display the table\n",
    "quote_contexts.head(10)"
   ]
  },
  {
   "cell_type": "code",
   "execution_count": null,
   "metadata": {},
   "outputs": [],
   "source": [
    "#################################################################################\n",
    "### Sentiment Analysis of Quote Contexts\n",
    "#################################################################################\n"
   ]
  },
  {
   "cell_type": "code",
   "execution_count": null,
   "metadata": {},
   "outputs": [],
   "source": [
    "# Step 1: Extract contexts for selected quotes\n",
    "contexts = processor.get_quote_contexts(\n",
    "    quotes_to_analyze=[\"Frequency is a challenging parameter to estimate.\"],\n",
    "    context_window=2\n",
    ")\n",
    "\n",
    "# Step 2: Analyze sentiment of the contexts\n",
    "sentiment_df = processor.analyze_sentiment_of_contexts(contexts)\n",
    "\n",
    "# Step 3: Visualize sentiment distribution\n",
    "Visualizer.plot_sentiment_distribution(\n",
    "    df=sentiment_df,\n",
    "    title=\"Sentiment Distribution of Quote Contexts\",\n",
    "    filename=\"quote_sentiment_distribution\"\n",
    ")\n",
    "\n",
    "# Step 4: Save the table\n",
    "Reporter.save_to_csv(sentiment_df, \"quote_sentiment_analysis\")\n",
    "\n",
    "# Step 5: Display the sentiment analysis table\n",
    "sentiment_df.head(10)"
   ]
  },
  {
   "cell_type": "code",
   "execution_count": null,
   "metadata": {},
   "outputs": [],
   "source": [
    "#################################################################################\n",
    "### Theme Extraction from Quote Contexts\n",
    "#################################################################################"
   ]
  },
  {
   "cell_type": "code",
   "execution_count": null,
   "metadata": {},
   "outputs": [],
   "source": [
    "# Step 1: Extract contexts for selected quotes\n",
    "contexts = processor.get_quote_contexts(\n",
    "    quotes_to_analyze=[\"Frequency is a challenging parameter to estimate.\"],\n",
    "    context_window=2\n",
    ")\n",
    "\n",
    "# Step 2: Extract themes (keywords) from the contexts\n",
    "themes_df = processor.extract_themes_from_contexts(contexts, top_n=10)\n",
    "\n",
    "# Step 3: Visualize themes with a word cloud\n",
    "Visualizer.plot_word_cloud_from_themes(\n",
    "    df=themes_df,\n",
    "    title=\"Themes from Quote Contexts\",\n",
    "    filename=\"quote_context_themes\"\n",
    ")\n",
    "\n",
    "# Step 4: Save the table\n",
    "Reporter.save_to_csv(themes_df, \"quote_context_themes\")\n",
    "\n",
    "# Step 5: Display the themes table\n",
    "themes_df\n"
   ]
  }
 ],
 "metadata": {
  "kernelspec": {
   "display_name": "Python 3 (ipykernel)",
   "language": "python",
   "name": "python3"
  },
  "language_info": {
   "codemirror_mode": {
    "name": "ipython",
    "version": 3
   },
   "file_extension": ".py",
   "mimetype": "text/x-python",
   "name": "python",
   "nbconvert_exporter": "python",
   "pygments_lexer": "ipython3",
   "version": "3.8.20"
  }
 },
 "nbformat": 4,
 "nbformat_minor": 4
}
