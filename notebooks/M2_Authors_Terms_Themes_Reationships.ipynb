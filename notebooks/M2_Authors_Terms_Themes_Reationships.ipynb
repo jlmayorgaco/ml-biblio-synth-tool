{
 "cells": [
  {
   "cell_type": "code",
   "execution_count": 2,
   "id": "66bd3630-913a-4136-bf11-928caec23cee",
   "metadata": {},
   "outputs": [],
   "source": [
    "import pandas as pd\n",
    "\n",
    "# Define chunk size (e.g., 100,000 rows at a time)\n",
    "chunk_size = 100000\n",
    "\n",
    "# Initialize an empty list to store results\n",
    "results = []\n",
    "\n",
    "# Process file in chunks\n",
    "for chunk in pd.read_csv(\"author_term_relationships.csv\", chunksize=chunk_size):\n",
    "    # Perform desired operations on the chunk\n",
    "    grouped = chunk.groupby([\"Author\", \"Term1\", \"Term2\"], as_index=False).sum()\n",
    "    \n",
    "    # Append the processed chunk to results\n",
    "    results.append(grouped)\n",
    "\n",
    "# Combine all processed chunks into a single DataFrame\n",
    "final_df = pd.concat(results)\n",
    "\n",
    "# Save the final DataFrame to a compressed CSV\n",
    "final_df.to_csv(\"processed_large_file.csv\", index=False, compression=\"gzip\")"
   ]
  },
  {
   "cell_type": "code",
   "execution_count": null,
   "id": "f6de2984-a834-46fc-afa7-d77aad592274",
   "metadata": {},
   "outputs": [],
   "source": [
    "filtered_chunk = chunk[chunk[\"Co-occurrence Count\"] > 1]"
   ]
  },
  {
   "cell_type": "code",
   "execution_count": null,
   "id": "cc0e8013-a197-470b-a007-e1c137f8ef9e",
   "metadata": {},
   "outputs": [],
   "source": [
    "top_terms = final_df.groupby(\"Author\").apply(lambda x: x.nlargest(10, \"Co-occurrence Count\"))"
   ]
  },
  {
   "cell_type": "code",
   "execution_count": null,
   "id": "94d5c086-b939-46f4-b9fe-d13c88abb09e",
   "metadata": {},
   "outputs": [],
   "source": [
    "top_terms"
   ]
  },
  {
   "cell_type": "code",
   "execution_count": null,
   "id": "7648fe37-678a-4566-8a89-473724a58bfc",
   "metadata": {},
   "outputs": [],
   "source": [
    "from sklearn.cluster import KMeans\n",
    "kmeans = KMeans(n_clusters=5)\n",
    "clusters = kmeans.fit_predict(final_df[[\"Co-occurrence Count\"]])\n",
    "final_df[\"Cluster\"] = clusters"
   ]
  },
  {
   "cell_type": "code",
   "execution_count": null,
   "id": "c8029728-9135-47ae-9d05-69f87a8dd5b5",
   "metadata": {},
   "outputs": [],
   "source": [
    "final_df"
   ]
  },
  {
   "cell_type": "code",
   "execution_count": null,
   "id": "7594615b-e8ad-4ad6-9195-08d99e8492fa",
   "metadata": {},
   "outputs": [],
   "source": [
    "final_df.head(10)"
   ]
  },
  {
   "cell_type": "code",
   "execution_count": null,
   "id": "89438232-942b-4ef9-a21d-25ce05263092",
   "metadata": {},
   "outputs": [],
   "source": [
    "print(\"bad buny\")"
   ]
  },
  {
   "cell_type": "code",
   "execution_count": null,
   "id": "9d3385f8-78f5-4324-9071-aacdf1ccc7c5",
   "metadata": {},
   "outputs": [],
   "source": []
  },
  {
   "cell_type": "code",
   "execution_count": null,
   "id": "081210d4-f248-4d54-8ada-6b3aff49c0af",
   "metadata": {},
   "outputs": [],
   "source": []
  },
  {
   "cell_type": "code",
   "execution_count": null,
   "id": "131e9484-d2e9-437c-9256-9620de964bdd",
   "metadata": {},
   "outputs": [],
   "source": []
  }
 ],
 "metadata": {
  "kernelspec": {
   "display_name": "Python 3 (ipykernel)",
   "language": "python",
   "name": "python3"
  },
  "language_info": {
   "codemirror_mode": {
    "name": "ipython",
    "version": 3
   },
   "file_extension": ".py",
   "mimetype": "text/x-python",
   "name": "python",
   "nbconvert_exporter": "python",
   "pygments_lexer": "ipython3",
   "version": "3.8.20"
  }
 },
 "nbformat": 4,
 "nbformat_minor": 5
}
