{
 "cells": [
  {
   "cell_type": "code",
   "execution_count": null,
   "id": "66bd3630-913a-4136-bf11-928caec23cee",
   "metadata": {},
   "outputs": [],
   "source": [
    "import pandas as pd\n",
    "\n",
    "# Define chunk size (e.g., 100,000 rows at a time)\n",
    "chunk_size = 100000\n",
    "\n",
    "# Initialize an empty list to store results\n",
    "results = []\n",
    "\n",
    "# Process file in chunks\n",
    "for chunk in pd.read_csv(\"author_term_relationships.csv\", chunksize=chunk_size):\n",
    "    # Perform desired operations on the chunk\n",
    "    grouped = chunk.groupby([\"Author\", \"Term1\", \"Term2\"], as_index=False).sum()\n",
    "    \n",
    "    # Append the processed chunk to results\n",
    "    results.append(grouped)\n",
    "\n",
    "# Combine all processed chunks into a single DataFrame\n",
    "final_df = pd.concat(results)\n",
    "\n",
    "# Save the final DataFrame to a compressed CSV\n",
    "final_df.to_csv(\"processed_large_file.csv\", index=False, compression=\"gzip\")"
   ]
  },
  {
   "cell_type": "code",
   "execution_count": null,
   "id": "f6de2984-a834-46fc-afa7-d77aad592274",
   "metadata": {},
   "outputs": [],
   "source": [
    "filtered_chunk = chunk[chunk[\"Co-occurrence Count\"] > 1]"
   ]
  },
  {
   "cell_type": "code",
   "execution_count": null,
   "id": "cc0e8013-a197-470b-a007-e1c137f8ef9e",
   "metadata": {},
   "outputs": [],
   "source": [
    "top_terms = final_df.groupby(\"Author\").apply(lambda x: x.nlargest(10, \"Co-occurrence Count\"))"
   ]
  },
  {
   "cell_type": "code",
   "execution_count": null,
   "id": "94d5c086-b939-46f4-b9fe-d13c88abb09e",
   "metadata": {},
   "outputs": [],
   "source": [
    "top_terms"
   ]
  },
  {
   "cell_type": "code",
   "execution_count": null,
   "id": "7648fe37-678a-4566-8a89-473724a58bfc",
   "metadata": {},
   "outputs": [],
   "source": [
    "from sklearn.cluster import KMeans\n",
    "kmeans = KMeans(n_clusters=5)\n",
    "clusters = kmeans.fit_predict(final_df[[\"Co-occurrence Count\"]])\n",
    "final_df[\"Cluster\"] = clusters"
   ]
  },
  {
   "cell_type": "code",
   "execution_count": null,
   "id": "c8029728-9135-47ae-9d05-69f87a8dd5b5",
   "metadata": {},
   "outputs": [],
   "source": [
    "final_df"
   ]
  },
  {
   "cell_type": "code",
   "execution_count": 6,
   "id": "7594615b-e8ad-4ad6-9195-08d99e8492fa",
   "metadata": {},
   "outputs": [
    {
     "data": {
      "text/html": [
       "<div>\n",
       "<style scoped>\n",
       "    .dataframe tbody tr th:only-of-type {\n",
       "        vertical-align: middle;\n",
       "    }\n",
       "\n",
       "    .dataframe tbody tr th {\n",
       "        vertical-align: top;\n",
       "    }\n",
       "\n",
       "    .dataframe thead th {\n",
       "        text-align: right;\n",
       "    }\n",
       "</style>\n",
       "<table border=\"1\" class=\"dataframe\">\n",
       "  <thead>\n",
       "    <tr style=\"text-align: right;\">\n",
       "      <th></th>\n",
       "      <th>Author</th>\n",
       "      <th>Term1</th>\n",
       "      <th>Term2</th>\n",
       "      <th>Co-occurrence Count</th>\n",
       "      <th>Cluster</th>\n",
       "    </tr>\n",
       "  </thead>\n",
       "  <tbody>\n",
       "    <tr>\n",
       "      <th>0</th>\n",
       "      <td>A. P. Sakis</td>\n",
       "      <td>a</td>\n",
       "      <td>achieved</td>\n",
       "      <td>1</td>\n",
       "      <td>2</td>\n",
       "    </tr>\n",
       "    <tr>\n",
       "      <th>1</th>\n",
       "      <td>A. P. Sakis</td>\n",
       "      <td>a</td>\n",
       "      <td>active</td>\n",
       "      <td>1</td>\n",
       "      <td>2</td>\n",
       "    </tr>\n",
       "    <tr>\n",
       "      <th>2</th>\n",
       "      <td>A. P. Sakis</td>\n",
       "      <td>a</td>\n",
       "      <td>additional</td>\n",
       "      <td>1</td>\n",
       "      <td>2</td>\n",
       "    </tr>\n",
       "    <tr>\n",
       "      <th>3</th>\n",
       "      <td>A. P. Sakis</td>\n",
       "      <td>a</td>\n",
       "      <td>alireza</td>\n",
       "      <td>1</td>\n",
       "      <td>2</td>\n",
       "    </tr>\n",
       "    <tr>\n",
       "      <th>4</th>\n",
       "      <td>A. P. Sakis</td>\n",
       "      <td>a</td>\n",
       "      <td>althoughoccurs</td>\n",
       "      <td>1</td>\n",
       "      <td>2</td>\n",
       "    </tr>\n",
       "    <tr>\n",
       "      <th>5</th>\n",
       "      <td>A. P. Sakis</td>\n",
       "      <td>a</td>\n",
       "      <td>always</td>\n",
       "      <td>1</td>\n",
       "      <td>2</td>\n",
       "    </tr>\n",
       "    <tr>\n",
       "      <th>6</th>\n",
       "      <td>A. P. Sakis</td>\n",
       "      <td>a</td>\n",
       "      <td>andvariables</td>\n",
       "      <td>1</td>\n",
       "      <td>2</td>\n",
       "    </tr>\n",
       "    <tr>\n",
       "      <th>7</th>\n",
       "      <td>A. P. Sakis</td>\n",
       "      <td>a</td>\n",
       "      <td>ar</td>\n",
       "      <td>1</td>\n",
       "      <td>2</td>\n",
       "    </tr>\n",
       "    <tr>\n",
       "      <th>8</th>\n",
       "      <td>A. P. Sakis</td>\n",
       "      <td>a</td>\n",
       "      <td>areii</td>\n",
       "      <td>1</td>\n",
       "      <td>2</td>\n",
       "    </tr>\n",
       "    <tr>\n",
       "      <th>9</th>\n",
       "      <td>A. P. Sakis</td>\n",
       "      <td>a</td>\n",
       "      <td>arising</td>\n",
       "      <td>1</td>\n",
       "      <td>2</td>\n",
       "    </tr>\n",
       "  </tbody>\n",
       "</table>\n",
       "</div>"
      ],
      "text/plain": [
       "        Author Term1           Term2  Co-occurrence Count  Cluster\n",
       "0  A. P. Sakis     a        achieved                    1        2\n",
       "1  A. P. Sakis     a          active                    1        2\n",
       "2  A. P. Sakis     a      additional                    1        2\n",
       "3  A. P. Sakis     a         alireza                    1        2\n",
       "4  A. P. Sakis     a  althoughoccurs                    1        2\n",
       "5  A. P. Sakis     a          always                    1        2\n",
       "6  A. P. Sakis     a    andvariables                    1        2\n",
       "7  A. P. Sakis     a              ar                    1        2\n",
       "8  A. P. Sakis     a           areii                    1        2\n",
       "9  A. P. Sakis     a         arising                    1        2"
      ]
     },
     "execution_count": 6,
     "metadata": {},
     "output_type": "execute_result"
    }
   ],
   "source": [
    "final_df.head(10)"
   ]
  },
  {
   "cell_type": "code",
   "execution_count": null,
   "id": "89438232-942b-4ef9-a21d-25ce05263092",
   "metadata": {},
   "outputs": [],
   "source": []
  }
 ],
 "metadata": {
  "kernelspec": {
   "display_name": "Python 3 (ipykernel)",
   "language": "python",
   "name": "python3"
  },
  "language_info": {
   "codemirror_mode": {
    "name": "ipython",
    "version": 3
   },
   "file_extension": ".py",
   "mimetype": "text/x-python",
   "name": "python",
   "nbconvert_exporter": "python",
   "pygments_lexer": "ipython3",
   "version": "3.8.20"
  }
 },
 "nbformat": 4,
 "nbformat_minor": 5
}
