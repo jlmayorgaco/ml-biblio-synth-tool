{
 "cells": [
  {
   "cell_type": "code",
   "execution_count": 1,
   "metadata": {},
   "outputs": [],
   "source": [
    "import importlib\n",
    "import sys\n",
    "import os\n",
    "\n",
    "# Add the 'src' directory to the system path\n",
    "sys.path.append(os.path.abspath('../src'))\n",
    "src_path = os.path.abspath('../src')"
   ]
  },
  {
   "cell_type": "code",
   "execution_count": 2,
   "metadata": {},
   "outputs": [],
   "source": [
    "# Import classes from the modules using their correct filenames\n",
    "from DataLoaderClass import DataLoader\n",
    "from EDAClass import EDA\n",
    "from VisualizerClass import Visualizer"
   ]
  },
  {
   "cell_type": "code",
   "execution_count": 3,
   "metadata": {},
   "outputs": [],
   "source": [
    "# Initialize paths\n",
    "BIB_FILE_PATH = '../examples/EX1_POWER_SYSTEM_FPGA_FREQUENCY_ESTIMATORS/index.bib'\n",
    "PDF_FOLDER_PATH = '../examples/EX1_POWER_SYSTEM_FPGA_FREQUENCY_ESTIMATORS/files'"
   ]
  },
  {
   "cell_type": "code",
   "execution_count": 4,
   "metadata": {},
   "outputs": [
    {
     "name": "stdout",
     "output_type": "stream",
     "text": [
      "\n",
      "Matching process completed.\n",
      "Total references matched: 31 out of 31\n",
      "Unmatched References: 0\n",
      "\n",
      "Unmatched PDF Folders: 0\n"
     ]
    },
    {
     "ename": "TypeError",
     "evalue": "replace() argument 1 must be str, not bytes",
     "output_type": "error",
     "traceback": [
      "\u001b[0;31m---------------------------------------------------------------------------\u001b[0m",
      "\u001b[0;31mTypeError\u001b[0m                                 Traceback (most recent call last)",
      "Cell \u001b[0;32mIn[4], line 3\u001b[0m\n\u001b[1;32m      1\u001b[0m \u001b[38;5;66;03m# Step 1: Data Loading and Processing\u001b[39;00m\n\u001b[1;32m      2\u001b[0m loader \u001b[38;5;241m=\u001b[39m DataLoader(BIB_FILE_PATH, PDF_FOLDER_PATH)\n\u001b[0;32m----> 3\u001b[0m processed_data \u001b[38;5;241m=\u001b[39m \u001b[43mloader\u001b[49m\u001b[38;5;241;43m.\u001b[39;49m\u001b[43mload_and_process\u001b[49m\u001b[43m(\u001b[49m\u001b[43m)\u001b[49m\n",
      "File \u001b[0;32m~/Documents/GitHub/ml-biblio-synth-tool/src/DataLoaderClass.py:83\u001b[0m, in \u001b[0;36mDataLoader.load_and_process\u001b[0;34m(self)\u001b[0m\n\u001b[1;32m     80\u001b[0m references \u001b[38;5;241m=\u001b[39m \u001b[38;5;28mself\u001b[39m\u001b[38;5;241m.\u001b[39mload_bib_file()\n\u001b[1;32m     81\u001b[0m matched_files \u001b[38;5;241m=\u001b[39m \u001b[38;5;28mself\u001b[39m\u001b[38;5;241m.\u001b[39mmatch_references_with_pdfs(references)\n\u001b[0;32m---> 83\u001b[0m processed_data \u001b[38;5;241m=\u001b[39m [\n\u001b[1;32m     84\u001b[0m     (ref, \u001b[38;5;28mself\u001b[39m\u001b[38;5;241m.\u001b[39mpreprocess_text(\u001b[38;5;28mself\u001b[39m\u001b[38;5;241m.\u001b[39mextract_text_from_pdf(pdf))) \n\u001b[1;32m     85\u001b[0m     \u001b[38;5;28;01mfor\u001b[39;00m ref, pdf \u001b[38;5;129;01min\u001b[39;00m matched_files\n\u001b[1;32m     86\u001b[0m ]\n\u001b[1;32m     88\u001b[0m \u001b[38;5;28;01mreturn\u001b[39;00m processed_data\n",
      "File \u001b[0;32m~/Documents/GitHub/ml-biblio-synth-tool/src/DataLoaderClass.py:84\u001b[0m, in \u001b[0;36m<listcomp>\u001b[0;34m(.0)\u001b[0m\n\u001b[1;32m     80\u001b[0m references \u001b[38;5;241m=\u001b[39m \u001b[38;5;28mself\u001b[39m\u001b[38;5;241m.\u001b[39mload_bib_file()\n\u001b[1;32m     81\u001b[0m matched_files \u001b[38;5;241m=\u001b[39m \u001b[38;5;28mself\u001b[39m\u001b[38;5;241m.\u001b[39mmatch_references_with_pdfs(references)\n\u001b[1;32m     83\u001b[0m processed_data \u001b[38;5;241m=\u001b[39m [\n\u001b[0;32m---> 84\u001b[0m     (ref, \u001b[38;5;28mself\u001b[39m\u001b[38;5;241m.\u001b[39mpreprocess_text(\u001b[38;5;28;43mself\u001b[39;49m\u001b[38;5;241;43m.\u001b[39;49m\u001b[43mextract_text_from_pdf\u001b[49m\u001b[43m(\u001b[49m\u001b[43mpdf\u001b[49m\u001b[43m)\u001b[49m)) \n\u001b[1;32m     85\u001b[0m     \u001b[38;5;28;01mfor\u001b[39;00m ref, pdf \u001b[38;5;129;01min\u001b[39;00m matched_files\n\u001b[1;32m     86\u001b[0m ]\n\u001b[1;32m     88\u001b[0m \u001b[38;5;28;01mreturn\u001b[39;00m processed_data\n",
      "File \u001b[0;32m~/Documents/GitHub/ml-biblio-synth-tool/src/DataLoaderClass.py:72\u001b[0m, in \u001b[0;36mDataLoader.extract_text_from_pdf\u001b[0;34m(self, pdf_path)\u001b[0m\n\u001b[1;32m     70\u001b[0m \u001b[38;5;28;01mwith\u001b[39;00m \u001b[38;5;28mopen\u001b[39m(pdf_path, \u001b[38;5;124m'\u001b[39m\u001b[38;5;124mrb\u001b[39m\u001b[38;5;124m'\u001b[39m) \u001b[38;5;28;01mas\u001b[39;00m f:\n\u001b[1;32m     71\u001b[0m     reader \u001b[38;5;241m=\u001b[39m PyPDF2\u001b[38;5;241m.\u001b[39mPdfReader(f)\n\u001b[0;32m---> 72\u001b[0m     \u001b[38;5;28;01mreturn\u001b[39;00m \u001b[38;5;124m'\u001b[39m\u001b[38;5;124m'\u001b[39m\u001b[38;5;241m.\u001b[39mjoin([page\u001b[38;5;241m.\u001b[39mextract_text() \u001b[38;5;28;01mfor\u001b[39;00m page \u001b[38;5;129;01min\u001b[39;00m reader\u001b[38;5;241m.\u001b[39mpages])\n",
      "File \u001b[0;32m~/Documents/GitHub/ml-biblio-synth-tool/src/DataLoaderClass.py:72\u001b[0m, in \u001b[0;36m<listcomp>\u001b[0;34m(.0)\u001b[0m\n\u001b[1;32m     70\u001b[0m \u001b[38;5;28;01mwith\u001b[39;00m \u001b[38;5;28mopen\u001b[39m(pdf_path, \u001b[38;5;124m'\u001b[39m\u001b[38;5;124mrb\u001b[39m\u001b[38;5;124m'\u001b[39m) \u001b[38;5;28;01mas\u001b[39;00m f:\n\u001b[1;32m     71\u001b[0m     reader \u001b[38;5;241m=\u001b[39m PyPDF2\u001b[38;5;241m.\u001b[39mPdfReader(f)\n\u001b[0;32m---> 72\u001b[0m     \u001b[38;5;28;01mreturn\u001b[39;00m \u001b[38;5;124m'\u001b[39m\u001b[38;5;124m'\u001b[39m\u001b[38;5;241m.\u001b[39mjoin([\u001b[43mpage\u001b[49m\u001b[38;5;241;43m.\u001b[39;49m\u001b[43mextract_text\u001b[49m\u001b[43m(\u001b[49m\u001b[43m)\u001b[49m \u001b[38;5;28;01mfor\u001b[39;00m page \u001b[38;5;129;01min\u001b[39;00m reader\u001b[38;5;241m.\u001b[39mpages])\n",
      "File \u001b[0;32m/opt/anaconda3/envs/ML-Master/lib/python3.8/site-packages/PyPDF2/_page.py:1612\u001b[0m, in \u001b[0;36mPageObject.extract_text\u001b[0;34m(self, Tj_sep, TJ_sep, orientations, space_width, *args)\u001b[0m\n\u001b[1;32m   1609\u001b[0m \u001b[38;5;28;01mif\u001b[39;00m \u001b[38;5;28misinstance\u001b[39m(orientations, \u001b[38;5;28mint\u001b[39m):\n\u001b[1;32m   1610\u001b[0m     orientations \u001b[38;5;241m=\u001b[39m (orientations,)\n\u001b[0;32m-> 1612\u001b[0m \u001b[38;5;28;01mreturn\u001b[39;00m \u001b[38;5;28;43mself\u001b[39;49m\u001b[38;5;241;43m.\u001b[39;49m\u001b[43m_extract_text\u001b[49m\u001b[43m(\u001b[49m\n\u001b[1;32m   1613\u001b[0m \u001b[43m    \u001b[49m\u001b[38;5;28;43mself\u001b[39;49m\u001b[43m,\u001b[49m\u001b[43m \u001b[49m\u001b[38;5;28;43mself\u001b[39;49m\u001b[38;5;241;43m.\u001b[39;49m\u001b[43mpdf\u001b[49m\u001b[43m,\u001b[49m\u001b[43m \u001b[49m\u001b[43morientations\u001b[49m\u001b[43m,\u001b[49m\u001b[43m \u001b[49m\u001b[43mspace_width\u001b[49m\u001b[43m,\u001b[49m\u001b[43m \u001b[49m\u001b[43mPG\u001b[49m\u001b[38;5;241;43m.\u001b[39;49m\u001b[43mCONTENTS\u001b[49m\n\u001b[1;32m   1614\u001b[0m \u001b[43m\u001b[49m\u001b[43m)\u001b[49m\n",
      "File \u001b[0;32m/opt/anaconda3/envs/ML-Master/lib/python3.8/site-packages/PyPDF2/_page.py:1205\u001b[0m, in \u001b[0;36mPageObject._extract_text\u001b[0;34m(self, obj, pdf, orientations, space_width, content_key)\u001b[0m\n\u001b[1;32m   1203\u001b[0m \u001b[38;5;28;01mif\u001b[39;00m \u001b[38;5;124m\"\u001b[39m\u001b[38;5;124m/Font\u001b[39m\u001b[38;5;124m\"\u001b[39m \u001b[38;5;129;01min\u001b[39;00m resources_dict:\n\u001b[1;32m   1204\u001b[0m     \u001b[38;5;28;01mfor\u001b[39;00m f \u001b[38;5;129;01min\u001b[39;00m cast(DictionaryObject, resources_dict[\u001b[38;5;124m\"\u001b[39m\u001b[38;5;124m/Font\u001b[39m\u001b[38;5;124m\"\u001b[39m]):\n\u001b[0;32m-> 1205\u001b[0m         cmaps[f] \u001b[38;5;241m=\u001b[39m \u001b[43mbuild_char_map\u001b[49m\u001b[43m(\u001b[49m\u001b[43mf\u001b[49m\u001b[43m,\u001b[49m\u001b[43m \u001b[49m\u001b[43mspace_width\u001b[49m\u001b[43m,\u001b[49m\u001b[43m \u001b[49m\u001b[43mobj\u001b[49m\u001b[43m)\u001b[49m\n\u001b[1;32m   1206\u001b[0m cmap: Tuple[Union[\u001b[38;5;28mstr\u001b[39m, Dict[\u001b[38;5;28mint\u001b[39m, \u001b[38;5;28mstr\u001b[39m]], Dict[\u001b[38;5;28mstr\u001b[39m, \u001b[38;5;28mstr\u001b[39m], \u001b[38;5;28mstr\u001b[39m] \u001b[38;5;241m=\u001b[39m (\n\u001b[1;32m   1207\u001b[0m     \u001b[38;5;124m\"\u001b[39m\u001b[38;5;124mcharmap\u001b[39m\u001b[38;5;124m\"\u001b[39m,\n\u001b[1;32m   1208\u001b[0m     {},\n\u001b[1;32m   1209\u001b[0m     \u001b[38;5;124m\"\u001b[39m\u001b[38;5;124mNotInitialized\u001b[39m\u001b[38;5;124m\"\u001b[39m,\n\u001b[1;32m   1210\u001b[0m )  \u001b[38;5;66;03m# (encoding,CMAP,font_name)\u001b[39;00m\n\u001b[1;32m   1211\u001b[0m \u001b[38;5;28;01mtry\u001b[39;00m:\n",
      "File \u001b[0;32m/opt/anaconda3/envs/ML-Master/lib/python3.8/site-packages/PyPDF2/_cmap.py:22\u001b[0m, in \u001b[0;36mbuild_char_map\u001b[0;34m(font_name, space_width, obj)\u001b[0m\n\u001b[1;32m     20\u001b[0m space_code \u001b[38;5;241m=\u001b[39m \u001b[38;5;241m32\u001b[39m\n\u001b[1;32m     21\u001b[0m encoding, space_code \u001b[38;5;241m=\u001b[39m parse_encoding(ft, space_code)\n\u001b[0;32m---> 22\u001b[0m map_dict, space_code, int_entry \u001b[38;5;241m=\u001b[39m \u001b[43mparse_to_unicode\u001b[49m\u001b[43m(\u001b[49m\u001b[43mft\u001b[49m\u001b[43m,\u001b[49m\u001b[43m \u001b[49m\u001b[43mspace_code\u001b[49m\u001b[43m)\u001b[49m\n\u001b[1;32m     24\u001b[0m \u001b[38;5;66;03m# encoding can be either a string for decode (on 1,2 or a variable number of bytes) of a char table (for 1 byte only for me)\u001b[39;00m\n\u001b[1;32m     25\u001b[0m \u001b[38;5;66;03m# if empty string, it means it is than encoding field is not present and we have to select the good encoding from cmap input data\u001b[39;00m\n\u001b[1;32m     26\u001b[0m \u001b[38;5;28;01mif\u001b[39;00m encoding \u001b[38;5;241m==\u001b[39m \u001b[38;5;124m\"\u001b[39m\u001b[38;5;124m\"\u001b[39m:\n",
      "File \u001b[0;32m/opt/anaconda3/envs/ML-Master/lib/python3.8/site-packages/PyPDF2/_cmap.py:186\u001b[0m, in \u001b[0;36mparse_to_unicode\u001b[0;34m(ft, space_code)\u001b[0m\n\u001b[1;32m    182\u001b[0m process_char: \u001b[38;5;28mbool\u001b[39m \u001b[38;5;241m=\u001b[39m \u001b[38;5;28;01mFalse\u001b[39;00m\n\u001b[1;32m    183\u001b[0m multiline_rg: Union[\n\u001b[1;32m    184\u001b[0m     \u001b[38;5;28;01mNone\u001b[39;00m, Tuple[\u001b[38;5;28mint\u001b[39m, \u001b[38;5;28mint\u001b[39m]\n\u001b[1;32m    185\u001b[0m ] \u001b[38;5;241m=\u001b[39m \u001b[38;5;28;01mNone\u001b[39;00m  \u001b[38;5;66;03m# tuple = (current_char, remaining size) ; cf #1285 for example of file\u001b[39;00m\n\u001b[0;32m--> 186\u001b[0m cm \u001b[38;5;241m=\u001b[39m \u001b[43mprepare_cm\u001b[49m\u001b[43m(\u001b[49m\u001b[43mft\u001b[49m\u001b[43m)\u001b[49m\n\u001b[1;32m    187\u001b[0m \u001b[38;5;28;01mfor\u001b[39;00m l \u001b[38;5;129;01min\u001b[39;00m cm\u001b[38;5;241m.\u001b[39msplit(\u001b[38;5;124mb\u001b[39m\u001b[38;5;124m\"\u001b[39m\u001b[38;5;130;01m\\n\u001b[39;00m\u001b[38;5;124m\"\u001b[39m):\n\u001b[1;32m    188\u001b[0m     process_rg, process_char, multiline_rg \u001b[38;5;241m=\u001b[39m process_cm_line(\n\u001b[1;32m    189\u001b[0m         l\u001b[38;5;241m.\u001b[39mstrip(\u001b[38;5;124mb\u001b[39m\u001b[38;5;124m\"\u001b[39m\u001b[38;5;124m \u001b[39m\u001b[38;5;124m\"\u001b[39m), process_rg, process_char, multiline_rg, map_dict, int_entry\n\u001b[1;32m    190\u001b[0m     )\n",
      "File \u001b[0;32m/opt/anaconda3/envs/ML-Master/lib/python3.8/site-packages/PyPDF2/_cmap.py:202\u001b[0m, in \u001b[0;36mprepare_cm\u001b[0;34m(ft)\u001b[0m\n\u001b[1;32m    199\u001b[0m cm: \u001b[38;5;28mbytes\u001b[39m \u001b[38;5;241m=\u001b[39m cast(DecodedStreamObject, ft[\u001b[38;5;124m\"\u001b[39m\u001b[38;5;124m/ToUnicode\u001b[39m\u001b[38;5;124m\"\u001b[39m])\u001b[38;5;241m.\u001b[39mget_data()\n\u001b[1;32m    200\u001b[0m \u001b[38;5;66;03m# we need to prepare cm before due to missing return line in pdf printed to pdf from word\u001b[39;00m\n\u001b[1;32m    201\u001b[0m cm \u001b[38;5;241m=\u001b[39m (\n\u001b[0;32m--> 202\u001b[0m     \u001b[43mcm\u001b[49m\u001b[38;5;241;43m.\u001b[39;49m\u001b[43mstrip\u001b[49m\u001b[43m(\u001b[49m\u001b[43m)\u001b[49m\n\u001b[1;32m    203\u001b[0m \u001b[43m    \u001b[49m\u001b[38;5;241;43m.\u001b[39;49m\u001b[43mreplace\u001b[49m\u001b[43m(\u001b[49m\u001b[38;5;124;43mb\u001b[39;49m\u001b[38;5;124;43m\"\u001b[39;49m\u001b[38;5;124;43mbeginbfchar\u001b[39;49m\u001b[38;5;124;43m\"\u001b[39;49m\u001b[43m,\u001b[49m\u001b[43m \u001b[49m\u001b[38;5;124;43mb\u001b[39;49m\u001b[38;5;124;43m\"\u001b[39;49m\u001b[38;5;130;43;01m\\n\u001b[39;49;00m\u001b[38;5;124;43mbeginbfchar\u001b[39;49m\u001b[38;5;130;43;01m\\n\u001b[39;49;00m\u001b[38;5;124;43m\"\u001b[39;49m\u001b[43m)\u001b[49m\n\u001b[1;32m    204\u001b[0m     \u001b[38;5;241m.\u001b[39mreplace(\u001b[38;5;124mb\u001b[39m\u001b[38;5;124m\"\u001b[39m\u001b[38;5;124mendbfchar\u001b[39m\u001b[38;5;124m\"\u001b[39m, \u001b[38;5;124mb\u001b[39m\u001b[38;5;124m\"\u001b[39m\u001b[38;5;130;01m\\n\u001b[39;00m\u001b[38;5;124mendbfchar\u001b[39m\u001b[38;5;130;01m\\n\u001b[39;00m\u001b[38;5;124m\"\u001b[39m)\n\u001b[1;32m    205\u001b[0m     \u001b[38;5;241m.\u001b[39mreplace(\u001b[38;5;124mb\u001b[39m\u001b[38;5;124m\"\u001b[39m\u001b[38;5;124mbeginbfrange\u001b[39m\u001b[38;5;124m\"\u001b[39m, \u001b[38;5;124mb\u001b[39m\u001b[38;5;124m\"\u001b[39m\u001b[38;5;130;01m\\n\u001b[39;00m\u001b[38;5;124mbeginbfrange\u001b[39m\u001b[38;5;130;01m\\n\u001b[39;00m\u001b[38;5;124m\"\u001b[39m)\n\u001b[1;32m    206\u001b[0m     \u001b[38;5;241m.\u001b[39mreplace(\u001b[38;5;124mb\u001b[39m\u001b[38;5;124m\"\u001b[39m\u001b[38;5;124mendbfrange\u001b[39m\u001b[38;5;124m\"\u001b[39m, \u001b[38;5;124mb\u001b[39m\u001b[38;5;124m\"\u001b[39m\u001b[38;5;130;01m\\n\u001b[39;00m\u001b[38;5;124mendbfrange\u001b[39m\u001b[38;5;130;01m\\n\u001b[39;00m\u001b[38;5;124m\"\u001b[39m)\n\u001b[1;32m    207\u001b[0m     \u001b[38;5;241m.\u001b[39mreplace(\u001b[38;5;124mb\u001b[39m\u001b[38;5;124m\"\u001b[39m\u001b[38;5;124m<<\u001b[39m\u001b[38;5;124m\"\u001b[39m, \u001b[38;5;124mb\u001b[39m\u001b[38;5;124m\"\u001b[39m\u001b[38;5;130;01m\\n\u001b[39;00m\u001b[38;5;124m{\u001b[39m\u001b[38;5;130;01m\\n\u001b[39;00m\u001b[38;5;124m\"\u001b[39m)  \u001b[38;5;66;03m# text between << and >> not used but\u001b[39;00m\n\u001b[1;32m    208\u001b[0m     \u001b[38;5;241m.\u001b[39mreplace(\u001b[38;5;124mb\u001b[39m\u001b[38;5;124m\"\u001b[39m\u001b[38;5;124m>>\u001b[39m\u001b[38;5;124m\"\u001b[39m, \u001b[38;5;124mb\u001b[39m\u001b[38;5;124m\"\u001b[39m\u001b[38;5;130;01m\\n\u001b[39;00m\u001b[38;5;124m}\u001b[39m\u001b[38;5;130;01m\\n\u001b[39;00m\u001b[38;5;124m\"\u001b[39m)  \u001b[38;5;66;03m# some solution to find it back\u001b[39;00m\n\u001b[1;32m    209\u001b[0m )\n\u001b[1;32m    210\u001b[0m ll \u001b[38;5;241m=\u001b[39m cm\u001b[38;5;241m.\u001b[39msplit(\u001b[38;5;124mb\u001b[39m\u001b[38;5;124m\"\u001b[39m\u001b[38;5;124m<\u001b[39m\u001b[38;5;124m\"\u001b[39m)\n\u001b[1;32m    211\u001b[0m \u001b[38;5;28;01mfor\u001b[39;00m i \u001b[38;5;129;01min\u001b[39;00m \u001b[38;5;28mrange\u001b[39m(\u001b[38;5;28mlen\u001b[39m(ll)):\n",
      "\u001b[0;31mTypeError\u001b[0m: replace() argument 1 must be str, not bytes"
     ]
    }
   ],
   "source": [
    "# Step 1: Data Loading and Processing\n",
    "loader = DataLoader(BIB_FILE_PATH, PDF_FOLDER_PATH)\n",
    "processed_data = loader.load_and_process()"
   ]
  },
  {
   "cell_type": "code",
   "execution_count": null,
   "metadata": {},
   "outputs": [],
   "source": [
    "# Step 2: Exploratory Data Analysis (EDA)\n",
    "eda = EDA(processed_data)\n",
    "keywords_list = eda.extract_keywords()\n",
    "keyword_freq_df = eda.keyword_frequency_df()"
   ]
  },
  {
   "cell_type": "code",
   "execution_count": null,
   "metadata": {},
   "outputs": [],
   "source": [
    "processed_data"
   ]
  },
  {
   "cell_type": "code",
   "execution_count": null,
   "metadata": {},
   "outputs": [],
   "source": [
    "# Step 3: Visualize the Results\n",
    "# Plot the bar chart of keyword frequencies\n",
    "Visualizer.plot_keyword_bar(keyword_freq_df, save_path=\"output/visualizations/keyword_bar_chart.png\")"
   ]
  },
  {
   "cell_type": "code",
   "execution_count": null,
   "metadata": {},
   "outputs": [],
   "source": [
    "# Generate a word cloud for keywords\n",
    "all_keywords_text = ' '.join(keywords_list)\n",
    "Visualizer.generate_word_cloud(all_keywords_text, save_path=\"output/visualizations/word_cloud.png\")"
   ]
  }
 ],
 "metadata": {
  "kernelspec": {
   "display_name": "Python 3 (ipykernel)",
   "language": "python",
   "name": "python3"
  },
  "language_info": {
   "codemirror_mode": {
    "name": "ipython",
    "version": 3
   },
   "file_extension": ".py",
   "mimetype": "text/x-python",
   "name": "python",
   "nbconvert_exporter": "python",
   "pygments_lexer": "ipython3",
   "version": "3.8.20"
  }
 },
 "nbformat": 4,
 "nbformat_minor": 4
}
